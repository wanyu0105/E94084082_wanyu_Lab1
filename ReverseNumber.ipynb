{
 "cells": [
  {
   "cell_type": "code",
   "execution_count": 1,
   "id": "26f14dbb-83e6-48d8-844f-afe9e1f5f17b",
   "metadata": {},
   "outputs": [
    {
     "name": "stdin",
     "output_type": "stream",
     "text": [
      "Enter an integer: 345\n"
     ]
    },
    {
     "name": "stdout",
     "output_type": "stream",
     "text": [
      "543"
     ]
    }
   ],
   "source": [
    "#定義一個函式reverse()\n",
    "def reverse(number):\n",
    "    while(number!=0):      #在number=0之前while迴圈將不斷循環\n",
    "        r=int(number%10)   #number的值除以10留下的餘數即為原本數值的\"個位數\"，將此\"個位數\"的數字assign給變數 r\n",
    "        print(r,end='')    #印出變數r的值且不換行(印出順序即為\"個位數\"、\"十位數\"、\"百位數\"...)\n",
    "        number=int(number//10)   #把number除以10，並以\"向下取整數\"的原則返回商的整數部分\n",
    "        \n",
    "num = int(input('Enter an integer:'))  #輸入整數，並將其值assign給變數num\n",
    "reverse(num)   #呼叫函式reverse"
   ]
  },
  {
   "cell_type": "code",
   "execution_count": 2,
   "id": "67406f66-513e-4a0a-9ef7-e730e22ee573",
   "metadata": {},
   "outputs": [
    {
     "name": "stdin",
     "output_type": "stream",
     "text": [
      "Enter an integer: 1234567890\n"
     ]
    },
    {
     "name": "stdout",
     "output_type": "stream",
     "text": [
      "0987654321"
     ]
    }
   ],
   "source": [
    "#同上面的程式碼\n",
    "def reverse(number):\n",
    "    while(number!=0):\n",
    "        r=int(number%10)\n",
    "        print(r,end='')\n",
    "        number=int(number//10)\n",
    "\n",
    "num = int(input('Enter an integer:'))\n",
    "reverse(num)"
   ]
  }
 ],
 "metadata": {
  "kernelspec": {
   "display_name": "Python 3",
   "language": "python",
   "name": "python3"
  },
  "language_info": {
   "codemirror_mode": {
    "name": "ipython",
    "version": 3
   },
   "file_extension": ".py",
   "mimetype": "text/x-python",
   "name": "python",
   "nbconvert_exporter": "python",
   "pygments_lexer": "ipython3",
   "version": "3.8.8"
  }
 },
 "nbformat": 4,
 "nbformat_minor": 5
}
