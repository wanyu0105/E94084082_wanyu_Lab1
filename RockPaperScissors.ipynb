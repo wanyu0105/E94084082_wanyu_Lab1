{
 "cells": [
  {
   "cell_type": "code",
   "execution_count": 1,
   "id": "5c24fd00-9df6-4c63-be23-bb8aa5dd7223",
   "metadata": {},
   "outputs": [],
   "source": [
    "import random   #匯入random這個模組\n",
    "computer=random.randint(1, 3)   #使用在random模組裡面的randint，隨機回傳整數1、2或3，並將值assign給computer這個變數\n",
    "\n",
    "#利用if-else條件式判斷computer為不同值時，變數rps_random的值分別為'ROCK'、'PAPER'、'SCISSORS'\n",
    "if (computer==1):\n",
    "    rps_random='ROCK'\n",
    "elif (computer==2):\n",
    "    rps_random='PAPER'\n",
    "else:\n",
    "    rps_random='SCISSORS'"
   ]
  },
  {
   "cell_type": "code",
   "execution_count": 2,
   "id": "398be261-d311-45a8-80f1-b8f050e7349d",
   "metadata": {},
   "outputs": [
    {
     "name": "stdout",
     "output_type": "stream",
     "text": [
      "Welcome to ROCK, PAPER, SCISSORS game!\n"
     ]
    },
    {
     "name": "stdin",
     "output_type": "stream",
     "text": [
      "Enter your move: (r)ock (p)aper (s)cissors p\n"
     ]
    },
    {
     "name": "stdout",
     "output_type": "stream",
     "text": [
      "PAPER versus...\n",
      "PAPER\n",
      "It is a tie!\n"
     ]
    },
    {
     "name": "stdin",
     "output_type": "stream",
     "text": [
      "Enter your move: (r)ock (p)aper (s)cissors r\n"
     ]
    },
    {
     "name": "stdout",
     "output_type": "stream",
     "text": [
      "ROCK versus...\n",
      "PAPER\n",
      "You lose!\n"
     ]
    },
    {
     "name": "stdin",
     "output_type": "stream",
     "text": [
      "Enter your move: (r)ock (p)aper (s)cissors s\n"
     ]
    },
    {
     "name": "stdout",
     "output_type": "stream",
     "text": [
      "SCISSORS versus...\n",
      "PAPER\n",
      "You win!\n",
      "You have 1  ties and 1  losses before your first win.\n"
     ]
    }
   ],
   "source": [
    "print('Welcome to ROCK, PAPER, SCISSORS game!')\n",
    "\n",
    "#利用if-else條件式判斷輸入的y分別為'r'、'p'、's'時，變數rps和person分別被assign的值\n",
    "y=input('Enter your move: (r)ock (p)aper (s)cissors')\n",
    "\n",
    "if (y=='r'):\n",
    "    rps='ROCK'\n",
    "    person=1\n",
    "elif (y=='p'):\n",
    "    rps='PAPER'\n",
    "    person=2\n",
    "else:\n",
    "    rps='SCISSORS'\n",
    "    person=3\n",
    "    \n",
    "print(rps,'versus...')\n",
    "print(rps_random)\n",
    "\n",
    "t=0   #計算平手幾次的變數 t\n",
    "l=0   #計算書幾次的變數 l\n",
    "w=0   #控制while迴圈的條件變數 w\n",
    "\n",
    "#利用while迴圈讓猜拳遊戲在玩家'person'還未獲勝前不斷循環\n",
    "while (w!=1):\n",
    "    if(person == computer):  #平手\n",
    "        print('It is a tie!')\n",
    "        t=t+1  \n",
    "    elif((person == 1 and computer == 3) or (person == 2 and computer == 1) or (person == 3 and computer == 2)):   #獲勝\n",
    "        print('You win!')\n",
    "        print('You have',t,' ties and',l,' losses before your first win.')\n",
    "        w=1\n",
    "        break  #當獲勝時while迴圈即停止\n",
    "    else:   #輸\n",
    "        print('You lose!')\n",
    "        l=l+1\n",
    "  \n",
    "    y=input('Enter your move: (r)ock (p)aper (s)cissors')\n",
    "\n",
    "    if (y=='r'):\n",
    "        rps='ROCK'\n",
    "        person=1\n",
    "    elif (y=='p'):\n",
    "        rps='PAPER'\n",
    "        person=2\n",
    "    else:\n",
    "        rps='SCISSORS'\n",
    "        person=3\n",
    "    \n",
    "    print(rps,'versus...')\n",
    "    print(rps_random)"
   ]
  }
 ],
 "metadata": {
  "kernelspec": {
   "display_name": "Python 3",
   "language": "python",
   "name": "python3"
  },
  "language_info": {
   "codemirror_mode": {
    "name": "ipython",
    "version": 3
   },
   "file_extension": ".py",
   "mimetype": "text/x-python",
   "name": "python",
   "nbconvert_exporter": "python",
   "pygments_lexer": "ipython3",
   "version": "3.8.8"
  }
 },
 "nbformat": 4,
 "nbformat_minor": 5
}
