{
 "cells": [
  {
   "cell_type": "code",
   "execution_count": 1,
   "id": "036f068c-9120-4194-96eb-b79f66b53102",
   "metadata": {},
   "outputs": [
    {
     "name": "stdin",
     "output_type": "stream",
     "text": [
      "Enter the number of smallest and largest values to remove: 2\n",
      "Enter a value (q or Q to quit): -2201\n",
      "Enter a value (q or Q to quit): -100000\n",
      "Enter a value (q or Q to quit): 100000000\n",
      "Enter a value (q or Q to quit): -10\n",
      "Enter a value (q or Q to quit): -5\n",
      "Enter a value (q or Q to quit): 39\n",
      "Enter a value (q or Q to quit): 19999\n",
      "Enter a value (q or Q to quit): 38\n",
      "Enter a value (q or Q to quit): 56\n",
      "Enter a value (q or Q to quit): q\n"
     ]
    },
    {
     "name": "stdout",
     "output_type": "stream",
     "text": [
      "The original data: [-2201, -100000, 100000000, -10, -5, 39, 19999, 38, 56]\n",
      "The data with the outliers removed: [-10, -5, 38, 39, 56]\n",
      "The outliers: [-100000, -2201, 19999, 100000000]\n"
     ]
    }
   ],
   "source": [
    "list=[]   #建立一個空列表叫做 list\n",
    "\n",
    "#輸入一個值並將其值轉換為integer，再assign給變數n\n",
    "n=int(input('Enter the number of smallest and largest values to remove:'))   \n",
    "\n",
    "#輸入一個值並assign給變數value\n",
    "value=input('Enter a value (q or Q to quit):')\n",
    "\n",
    "#當value的值不等於'q'和'Q'時，while迴圈會不斷循環\n",
    "while(value!='q' and value!='Q'):\n",
    "    list.append(int(value))   #利用 append()為列表list添加\"元素\"，即輸入給變數value的值\n",
    "    value=input('Enter a value (q or Q to quit):')\n",
    "\n",
    "    \n",
    "#定義一個函式remove_outliers()   \n",
    "def remove_outliers(list_1,x):\n",
    "    length=len(list_1)   #利用len()計算列表元素個數，並將計算得出的值assign給變數length\n",
    "    list_2=[]   #建立一個空列表叫做 list_2\n",
    "    \n",
    "    #利用if-else條件是判斷程式是否可以執行移除\n",
    "    if(x*2 > length):   #因為變數x的值即代表需要從列表中移除的最大x個數和最小x數，共需移除'2x'個數，所以需移除的數大於列表的元素個數是不合理的\n",
    "        print('Please enter again!')\n",
    "    else:\n",
    "        print('The original data:',list_1)\n",
    "        for i in range(n):  #設定for迴圈執行的次數為n次\n",
    "            max1=max(list_1)   #利用max()返回列表元素最大值，並將其值assign給變數max1\n",
    "            min1=min(list_1)   #利用min()返回列表元素最大值，並將其值assign給變數min1\n",
    "            list_1.remove(max1)   #從list_1中移除\"目前元素中最大的值\"\n",
    "            list_1.remove(min1)   #從list_1中移除\"目前元素中最小的值\"\n",
    "            list_2.append(min1)   #將list_1中所移除的\"目前元素中最小的值\"添加為list_2的元素\n",
    "            list_2.append(max1)   #將list_1中所移除的\"目前元素中最大的值\"添加為list_2的元素\n",
    "        list_1.sort()   #對列表list_1進行排序\n",
    "        list_2.sort()   #對列表list_2進行排序\n",
    "        print('The data with the outliers removed:',list_1)\n",
    "        print('The outliers:',list_2)\n",
    "        \n",
    "remove_outliers(list,n)   #呼叫函式remove_outliers()\n"
   ]
  }
 ],
 "metadata": {
  "kernelspec": {
   "display_name": "Python 3",
   "language": "python",
   "name": "python3"
  },
  "language_info": {
   "codemirror_mode": {
    "name": "ipython",
    "version": 3
   },
   "file_extension": ".py",
   "mimetype": "text/x-python",
   "name": "python",
   "nbconvert_exporter": "python",
   "pygments_lexer": "ipython3",
   "version": "3.8.8"
  }
 },
 "nbformat": 4,
 "nbformat_minor": 5
}
