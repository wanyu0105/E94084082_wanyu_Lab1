{
 "cells": [
  {
   "cell_type": "code",
   "execution_count": 1,
   "id": "165aa340-9b57-48cb-9003-732e9b7dc289",
   "metadata": {},
   "outputs": [],
   "source": [
    "bin1=[]   #建立一個空列表叫做 bin1\n",
    "\n",
    "#定義一個函式 binary()\n",
    "def binary(number):\n",
    "    for i in range(9):   #設定for迴圈執行9次\n",
    "        if(number!=0):   \n",
    "            r=number%2   #將number的值除以2的餘數(可能為0或1)的值assign給變數 r\n",
    "            bin1.append(r)   #利用 append()為列表bin1添加\"元素\"，即變數r的值\n",
    "            number=number//2   #把number除以2，並以\"向下取整數\"的原則返回商的整數部分\n",
    "        else:   #當number=0時\n",
    "            r=0\n",
    "            bin1.append(r) \n",
    "            \n",
    "    bin1.reverse()   #將列表bin1中的元素反向排列，以得到正確的二進位數值"
   ]
  },
  {
   "cell_type": "code",
   "execution_count": 2,
   "id": "cfadf107-6d94-427a-8c55-935f8ef73987",
   "metadata": {},
   "outputs": [],
   "source": [
    "list1=[]   #建立一個空列表叫做 list1\n",
    "\n",
    "#建立一個class 'Nine_Coins'\n",
    "class Nine_Coins:\n",
    "    def __init__(self,number):   #初始化 / 會自動執行的函式\n",
    "        self.number = number\n",
    "        binary(number)   #呼叫函式 binary()\n",
    "        \n",
    "    def __repr__(self):\n",
    "        string='%s' * len(bin1) % tuple(bin1)   #將列表bin1轉換為字串，並將轉換後的值assign給變數string\n",
    "        length=len(string)   #利用len()計算string的長度，並將計算後得出的值assign給變數length\n",
    "        \n",
    "        n=0   #控制while迴圈執行的條件變數\n",
    "        \n",
    "        #在while迴圈裡利用if-else條件式判斷列表list1添加的元素為'H'還是'T'\n",
    "        while(n<length):\n",
    "            if(string[n]=='0'):   #string[n]的值為字串內位於第'n'個位置的字元的值\n",
    "                list1.append('H')   #當該字元的值為'0'時，列表list1添加的元素為'H'\n",
    "                n+=1\n",
    "            else:\n",
    "                list1.append('T')   #當該字元的值為'1'時，列表list1添加的元素為'T'\n",
    "                n+=1\n",
    "        \n",
    "        l='%s' * len(list1) % tuple(list1)   #將添加完元素的列表'list1'轉換為字串，並將轉換後的值assign給變數 l\n",
    "        del list1[:]   #使用del語句將列表list1中的元素刪除，讓list1回歸為空列表\n",
    "        return f'Nine_Coins: {l}'   #利用f'  '將字符串格式化，{}表示可被替換字段\n",
    "        \n",
    "    def __str__(self):   #等同於print的功能\n",
    "        l2='%s' * len(bin1) % tuple(bin1)   #將列表bin1轉換為字串，並將轉換後的值assign給變數 l2\n",
    "        return f'binary: {l2} and decimal: {self.number}'   #利用f'  '將字符串格式化，{}表示可被替換字段\n",
    "        \n",
    "    def toss(self):   \n",
    "        from random import randint   #從random模組裡只匯入randint函式\n",
    "        self.number = randint(0,511)   #利用randint函式隨機產生0~511任一正整數，並將該整數的值assign給self.number\n",
    "        del bin1[:]   #使用del語句將列表bin1中的元素刪除，讓bin1回歸為空列表，以利binary函式執行\n",
    "        binary(self.number)   #呼叫binary函式"
   ]
  }
 ],
 "metadata": {
  "kernelspec": {
   "display_name": "Python 3",
   "language": "python",
   "name": "python3"
  },
  "language_info": {
   "codemirror_mode": {
    "name": "ipython",
    "version": 3
   },
   "file_extension": ".py",
   "mimetype": "text/x-python",
   "name": "python",
   "nbconvert_exporter": "python",
   "pygments_lexer": "ipython3",
   "version": "3.8.8"
  }
 },
 "nbformat": 4,
 "nbformat_minor": 5
}
